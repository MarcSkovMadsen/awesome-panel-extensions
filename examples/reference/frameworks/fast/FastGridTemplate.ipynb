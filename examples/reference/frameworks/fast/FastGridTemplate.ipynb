{
 "cells": [
  {
   "cell_type": "markdown",
   "metadata": {},
   "source": [
    "# FastGridTemplate"
   ]
  },
  {
   "cell_type": "code",
   "execution_count": null,
   "metadata": {},
   "outputs": [],
   "source": [
    "import panel as pn\n",
    "import numpy as np\n",
    "import holoviews as hv\n",
    "\n",
    "pn.extension()\n",
    "\n",
    "vanilla = pn.template.VanillaTemplate(title='Vanilla Template')\n",
    "\n",
    "pn.config.sizing_mode = 'stretch_width'\n",
    "\n",
    "xs = np.linspace(0, np.pi)\n",
    "freq = pn.widgets.FloatSlider(name=\"Frequency\", start=0, end=10, value=2)\n",
    "phase = pn.widgets.FloatSlider(name=\"Phase\", start=0, end=np.pi)\n",
    "\n",
    "@pn.depends(freq=freq, phase=phase)\n",
    "def sine(freq, phase):\n",
    "    return hv.Curve((xs, np.sin(xs*freq+phase))).opts(\n",
    "        responsive=True, min_height=400)\n",
    "\n",
    "@pn.depends(freq=freq, phase=phase)\n",
    "def cosine(freq, phase):\n",
    "    return hv.Curve((xs, np.cos(xs*freq+phase))).opts(\n",
    "        responsive=True, min_height=400)\n",
    "\n",
    "vanilla.sidebar.append(freq)\n",
    "vanilla.sidebar.append(phase)\n",
    "\n",
    "vanilla.main.append(\n",
    "    pn.Row(\n",
    "        pn.Card(hv.DynamicMap(sine), title='Sine'),\n",
    "        pn.Card(hv.DynamicMap(cosine), title='Cosine')\n",
    "    )\n",
    ")\n",
    "vanilla.servable()"
   ]
  }
 ],
 "metadata": {
  "kernelspec": {
   "display_name": "Python 3",
   "language": "python",
   "name": "python3"
  },
  "language_info": {
   "codemirror_mode": {
    "name": "ipython",
    "version": 3
   },
   "file_extension": ".py",
   "mimetype": "text/x-python",
   "name": "python",
   "nbconvert_exporter": "python",
   "pygments_lexer": "ipython3",
   "version": "3.7.6"
  }
 },
 "nbformat": 4,
 "nbformat_minor": 4
}
